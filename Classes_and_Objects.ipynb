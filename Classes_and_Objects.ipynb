{
  "nbformat": 4,
  "nbformat_minor": 0,
  "metadata": {
    "colab": {
      "name": "Classes and Objects.ipynb",
      "provenance": [],
      "authorship_tag": "ABX9TyP5aOmsga6oLUxiUCaO7rYS",
      "include_colab_link": true
    },
    "kernelspec": {
      "name": "python3",
      "display_name": "Python 3"
    },
    "language_info": {
      "name": "python"
    }
  },
  "cells": [
    {
      "cell_type": "markdown",
      "metadata": {
        "id": "view-in-github",
        "colab_type": "text"
      },
      "source": [
        "<a href=\"https://colab.research.google.com/github/LanzAndreiCatamisan/OOP-1-1/blob/main/Classes_and_Objects.ipynb\" target=\"_parent\"><img src=\"https://colab.research.google.com/assets/colab-badge.svg\" alt=\"Open In Colab\"/></a>"
      ]
    },
    {
      "cell_type": "code",
      "execution_count": 42,
      "metadata": {
        "colab": {
          "base_uri": "https://localhost:8080/"
        },
        "id": "xNZoni2-7aOv",
        "outputId": "25e4e133-e9ae-44cd-8edc-162e71a18af4"
      },
      "outputs": [
        {
          "output_type": "stream",
          "name": "stdout",
          "text": [
            "Area and Perimeter of a Circle Calculator\n",
            "-----------------------------------------\n",
            "Enter Radius Value: 5\n",
            "---------------------\n",
            "Area:\n",
            "78.53981633974483\n",
            "Perimeter:\n",
            "31.41592653589793\n"
          ]
        }
      ],
      "source": [
        "import math\n",
        "\n",
        "class Circle:\n",
        "  def __init__(self,r):\n",
        "    self.r = r\n",
        "\n",
        "  def Area(self):\n",
        "    print(math.pi*self.r**2)\n",
        "\n",
        "  def Perimeter(self):\n",
        "    print(2*math.pi*self.r)\n",
        "\n",
        "print(\"Area and Perimeter of a Circle Calculator\")\n",
        "print(\"-----------------------------------------\")\n",
        "circ = Circle(int(input(\"Enter Radius Value: \")))\n",
        "print(\"---------------------\")\n",
        "print(\"Area:\")\n",
        "circ.Area()\n",
        "print(\"Perimeter:\")\n",
        "circ.Perimeter()"
      ]
    }
  ]
}