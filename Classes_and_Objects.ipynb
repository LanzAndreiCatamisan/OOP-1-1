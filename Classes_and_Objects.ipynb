{
  "nbformat": 4,
  "nbformat_minor": 0,
  "metadata": {
    "colab": {
      "name": "Classes and Objects.ipynb",
      "provenance": [],
      "authorship_tag": "ABX9TyOg8rm9l87WGfXWEb237T+q",
      "include_colab_link": true
    },
    "kernelspec": {
      "name": "python3",
      "display_name": "Python 3"
    },
    "language_info": {
      "name": "python"
    }
  },
  "cells": [
    {
      "cell_type": "markdown",
      "metadata": {
        "id": "view-in-github",
        "colab_type": "text"
      },
      "source": [
        "<a href=\"https://colab.research.google.com/github/LanzAndreiCatamisan/OOP-1-1/blob/main/Classes_and_Objects.ipynb\" target=\"_parent\"><img src=\"https://colab.research.google.com/assets/colab-badge.svg\" alt=\"Open In Colab\"/></a>"
      ]
    },
    {
      "cell_type": "markdown",
      "source": [
        "##**Application 2**"
      ],
      "metadata": {
        "id": "T6cZaXP77DCv"
      }
    },
    {
      "cell_type": "code",
      "source": [
        "class OOP_1_1:\n",
        "  def __init__(self,fullname,student_no,age,course,school):\n",
        "    self.fullname = fullname        \n",
        "    self.student_no = student_no\n",
        "    self.age = age\n",
        "    self.course = course\n",
        "    self.school = school\n",
        "  \n",
        "  def info(self):\n",
        "    print(\"Name:\", self.fullname)\n",
        "    print(\"Student Number:\", self.student_no)\n",
        "    print(\"Age:\", self.age)\n",
        "    print(\"Course:\", self.course)\n",
        "    print(\"School:\", self.school)\n",
        "\n",
        "student = OOP_1_1(\"Lanz Andrei A. Catamisan\", 202101886, 18, \"BSCpE\", \"Cavite State University\") \n",
        "\n",
        "student.info()"
      ],
      "metadata": {
        "colab": {
          "base_uri": "https://localhost:8080/"
        },
        "id": "1JHTDBqO19Lg",
        "outputId": "1cae97d1-ef7b-4f29-f09c-047b1fe24663"
      },
      "execution_count": 14,
      "outputs": [
        {
          "output_type": "stream",
          "name": "stdout",
          "text": [
            "Name: Lanz Andrei A. Catamisan\n",
            "Student Number: 202101886\n",
            "Age: 18\n",
            "Course: BSCpE\n",
            "School: Cavite State University\n"
          ]
        }
      ]
    }
  ]
}