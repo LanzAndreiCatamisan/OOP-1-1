{
  "nbformat": 4,
  "nbformat_minor": 0,
  "metadata": {
    "colab": {
      "name": "OOP Application Example.ipynb",
      "provenance": [],
      "authorship_tag": "ABX9TyM3ZsVcrNUCu8eNt1RoBWYa",
      "include_colab_link": true
    },
    "kernelspec": {
      "name": "python3",
      "display_name": "Python 3"
    },
    "language_info": {
      "name": "python"
    }
  },
  "cells": [
    {
      "cell_type": "markdown",
      "metadata": {
        "id": "view-in-github",
        "colab_type": "text"
      },
      "source": [
        "<a href=\"https://colab.research.google.com/github/LanzAndreiCatamisan/OOP-1-1/blob/main/OOP_Application_Example.ipynb\" target=\"_parent\"><img src=\"https://colab.research.google.com/assets/colab-badge.svg\" alt=\"Open In Colab\"/></a>"
      ]
    },
    {
      "cell_type": "code",
      "execution_count": 5,
      "metadata": {
        "id": "NXCrti-XtwV9",
        "colab": {
          "base_uri": "https://localhost:8080/"
        },
        "outputId": "a2fce1a2-425b-4ca9-fd6e-2d900769fedd"
      },
      "outputs": [
        {
          "output_type": "stream",
          "name": "stdout",
          "text": [
            "Student Term Grades (Prelim, Midterm, Finals):\n",
            "Student 1 88 89 87\n",
            "Student 2 88 87 98\n",
            "Student 3 91 90 92\n",
            "Student Term Average:\n",
            "Student 1: 88.0\n",
            "Student 2: 88.33\n",
            "Student 3: 91.0\n"
          ]
        }
      ],
      "source": [
        "class Person:\n",
        "  def __init__(self, std, pre, mid, fin):\n",
        "    self.__std = std\n",
        "    self.__pre = pre\n",
        "    self.__mid = mid\n",
        "    self.__fin = fin\n",
        "\n",
        "  def Terms(self):\n",
        "    print(self.__std, self.__pre, self.__mid, self.__fin)\n",
        "\n",
        "  print(\"Student Term Grades (Prelim, Midterm, Finals):\")\n",
        "stu1 = Person(\"Student 1\", 88, 89, 87)\n",
        "stu2 = Person(\"Student 2\", 88, 87, 98)\n",
        "stu3 = Person(\"Student 3\", 91, 90, 92)\n",
        "stu1.Terms()\n",
        "stu2.Terms()\n",
        "stu3.Terms()\n",
        "\n",
        "class Student(Person):\n",
        "  def __init__(self, pre, mid, fin):\n",
        "    self.__pre = pre\n",
        "    self.__mid = mid\n",
        "    self.__fin = fin\n",
        "\n",
        "  def Grade(self):\n",
        "    return((self.__pre + self.__mid + self.__fin)/3)\n",
        "\n",
        "print(\"Student Term Average:\")\n",
        "std1 = Student(88, 89, 87)\n",
        "print(\"Student 1:\", round(std1.Grade(), 2))\n",
        "std2 = Student(88, 87, 90)\n",
        "print(\"Student 2:\", round(std2.Grade(), 2))\n",
        "std3 = Student(91, 90, 92)\n",
        "print(\"Student 3:\", round(std3.Grade(), 2))"
      ]
    }
  ]
}