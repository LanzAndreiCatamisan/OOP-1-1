{
  "nbformat": 4,
  "nbformat_minor": 0,
  "metadata": {
    "colab": {
      "name": "Midterm Exam - Program 1.ipynb",
      "provenance": [],
      "authorship_tag": "ABX9TyN3L9btQNNvVqHaOfNfQQyY",
      "include_colab_link": true
    },
    "kernelspec": {
      "name": "python3",
      "display_name": "Python 3"
    },
    "language_info": {
      "name": "python"
    }
  },
  "cells": [
    {
      "cell_type": "markdown",
      "metadata": {
        "id": "view-in-github",
        "colab_type": "text"
      },
      "source": [
        "<a href=\"https://colab.research.google.com/github/LanzAndreiCatamisan/OOP-1-1/blob/main/Midterm_Exam_Program_1.ipynb\" target=\"_parent\"><img src=\"https://colab.research.google.com/assets/colab-badge.svg\" alt=\"Open In Colab\"/></a>"
      ]
    },
    {
      "cell_type": "markdown",
      "source": [
        "##Program 1"
      ],
      "metadata": {
        "id": "T9cpOzlIcT6J"
      }
    },
    {
      "cell_type": "code",
      "execution_count": 12,
      "metadata": {
        "colab": {
          "base_uri": "https://localhost:8080/"
        },
        "id": "RG-EEJraD9Qs",
        "outputId": "201cd7e8-cf90-46ee-a4f5-b91d1c033202"
      },
      "outputs": [
        {
          "output_type": "stream",
          "name": "stdout",
          "text": [
            "Enter the temperature in Celsius: 32\n",
            "305.15 Kelvin\n",
            "89.6 Fahrenheit\n",
            "Enter the temperature in Fahrenheit: 32\n",
            "0.0 Celsius\n",
            "Enter the temperature in Kelvin: 0\n",
            "-273.15 Celsius\n"
          ]
        }
      ],
      "source": [
        "def main():\n",
        "  class TemperatureConversion:\n",
        "    def __init__(self, temp=1):\n",
        "      self._temp = temp\n",
        "  class CelsiusToFahrenheit(TemperatureConversion):\n",
        "    def conversion(self):\n",
        "      return (self._temp * 9) / 5 + 32\n",
        "  class CelsiusToKelvin(TemperatureConversion):\n",
        "    def conversion(self):\n",
        "      return self._temp + 273.15\n",
        "  class FahrenheitToCelsius(TemperatureConversion):\n",
        "    def conversion(self):\n",
        "      return (self._temp - 32) * 5 / 9\n",
        "  class KelvinToCelsius(TemperatureConversion):\n",
        "    def conversion(self):\n",
        "      return self._temp - 273.15\n",
        "\n",
        "tempInCelsius = float(input(\"Enter the temperature in Celsius: \"))\n",
        "convert = CelsiusToKelvin(tempInCelsius)\n",
        "print(str(convert.conversion()) + \" Kelvin\")\n",
        "convert = CelsiusToFahrenheit(tempInCelsius)\n",
        "print(str(convert.conversion()) + \" Fahrenheit\")\n",
        "tempInFahrenheit = float(input(\"Enter the temperature in Fahrenheit: \"))\n",
        "convert = FahrenheitToCelsius(tempInFahrenheit)\n",
        "print(str(convert.conversion()) + \" Celsius\")\n",
        "tempInKelvin = float(input(\"Enter the temperature in Kelvin: \"))\n",
        "convert = KelvinToCelsius(tempInKelvin)\n",
        "print(str(convert.conversion()) + \" Celsius\")\n",
        "\n",
        "main()"
      ]
    }
  ]
}