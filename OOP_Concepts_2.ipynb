{
  "nbformat": 4,
  "nbformat_minor": 0,
  "metadata": {
    "colab": {
      "name": "OOP Concepts 2.ipynb",
      "provenance": [],
      "collapsed_sections": [],
      "authorship_tag": "ABX9TyPyG6FM0liiML3g+pd1n4Cq",
      "include_colab_link": true
    },
    "kernelspec": {
      "name": "python3",
      "display_name": "Python 3"
    },
    "language_info": {
      "name": "python"
    }
  },
  "cells": [
    {
      "cell_type": "markdown",
      "metadata": {
        "id": "view-in-github",
        "colab_type": "text"
      },
      "source": [
        "<a href=\"https://colab.research.google.com/github/LanzAndreiCatamisan/OOP-1-1/blob/main/OOP_Concepts_2.ipynb\" target=\"_parent\"><img src=\"https://colab.research.google.com/assets/colab-badge.svg\" alt=\"Open In Colab\"/></a>"
      ]
    },
    {
      "cell_type": "markdown",
      "source": [
        "Classes with Multiple Objects"
      ],
      "metadata": {
        "id": "uZBLo-l5MX5a"
      }
    },
    {
      "cell_type": "code",
      "execution_count": null,
      "metadata": {
        "colab": {
          "base_uri": "https://localhost:8080/"
        },
        "id": "6Ja31qGEMQm7",
        "outputId": "d2b0d068-b768-4d46-abbd-18162d8a1289"
      },
      "outputs": [
        {
          "output_type": "stream",
          "name": "stdout",
          "text": [
            "Griffon Vulture flies above the sky\n",
            "Common Crane flies above the sky\n",
            "Emu is the national bird of Australia\n"
          ]
        }
      ],
      "source": [
        "class Birds:\n",
        "  def __init__(self,birds_name):\n",
        "    self.birds_name = birds_name\n",
        "  def flying_birds(self):\n",
        "    print(f\"{self.birds_name} flies above the sky\")\n",
        "  def non_flying_birds(self):\n",
        "    print(f\"{self.birds_name} is the national bird of Australia\")\n",
        "\n",
        "vulture = Birds(\"Griffon Vulture\")\n",
        "crane = Birds(\"Common Crane\")\n",
        "emu = Birds(\"Emu\")\n",
        "\n",
        "vulture.flying_birds()\n",
        "crane.flying_birds()\n",
        "emu.non_flying_birds()"
      ]
    },
    {
      "cell_type": "markdown",
      "source": [
        "Encapsulation (mangling with double underscore)"
      ],
      "metadata": {
        "id": "YbzAVukiPV9s"
      }
    },
    {
      "cell_type": "code",
      "source": [
        "class foo:\n",
        "  def __init__(self,a,b):\n",
        "    self.__a = a\n",
        "    self.__b = b\n",
        "  def add(self):\n",
        "    return self.__a+self.__b\n",
        "\n",
        "object_foo = foo(3,4)\n",
        "object_foo.add()\n",
        "\n",
        "object_foo.__a = 6\n",
        "object_foo.__b = 7\n",
        "object_foo.add()"
      ],
      "metadata": {
        "colab": {
          "base_uri": "https://localhost:8080/"
        },
        "id": "CUy-Vgt_PU2j",
        "outputId": "f7445bcb-6696-4506-c541-272ef1c47cc2"
      },
      "execution_count": null,
      "outputs": [
        {
          "output_type": "execute_result",
          "data": {
            "text/plain": [
              "7"
            ]
          },
          "metadata": {},
          "execution_count": 6
        }
      ]
    },
    {
      "cell_type": "code",
      "source": [
        "class Counter:\n",
        "  def __init__(self):\n",
        "    self.__current = 0\n",
        "  def increment(self):\n",
        "    self.__current +=1\n",
        "  def value(self):\n",
        "    return self.__current\n",
        "  def reset(self):\n",
        "    self.__current = 0\n",
        "\n",
        "number = Counter()\n",
        "number.__current = 1\n",
        "\n",
        "number.increment()\n",
        "number.increment()\n",
        "number.increment()\n",
        "\n",
        "number.value()"
      ],
      "metadata": {
        "colab": {
          "base_uri": "https://localhost:8080/"
        },
        "id": "aKhy8qyxRcQX",
        "outputId": "df2c8a69-ad94-4298-cd60-de8e2aaf87f8"
      },
      "execution_count": null,
      "outputs": [
        {
          "output_type": "execute_result",
          "data": {
            "text/plain": [
              "3"
            ]
          },
          "metadata": {},
          "execution_count": 26
        }
      ]
    },
    {
      "cell_type": "markdown",
      "source": [
        "Inheritance"
      ],
      "metadata": {
        "id": "Vz3K5fNFU9K3"
      }
    },
    {
      "cell_type": "code",
      "source": [
        "class Person:\n",
        "  def __init__(self,firstname,surname):\n",
        "    self.firstname = firstname\n",
        "    self.surname = surname\n",
        "  def fullname(self):\n",
        "    print(self.firstname,self.surname)\n",
        "\n",
        "person = Person(\"Mam\",\"Sayo\")\n",
        "person.fullname()\n",
        "\n",
        "class Teacher(Person):\n",
        "  pass\n",
        "\n",
        "person2 = Teacher(\"Maam\",\"Maria\")\n",
        "person2.fullname()\n",
        "\n",
        "class Student(Person):\n",
        "  pass\n",
        "\n",
        "person3 = Student(\"Lanz\",\"Catamisan\")\n",
        "person3.fullname()\n"
      ],
      "metadata": {
        "colab": {
          "base_uri": "https://localhost:8080/"
        },
        "id": "tq16acXUU8p3",
        "outputId": "d4826ecb-29e5-4a9e-d23b-e3d90b95400d"
      },
      "execution_count": null,
      "outputs": [
        {
          "output_type": "stream",
          "name": "stdout",
          "text": [
            "Mam Sayo\n",
            "Maam Maria\n",
            "Lanz Catamisan\n"
          ]
        }
      ]
    },
    {
      "cell_type": "markdown",
      "source": [
        "Polymorphism"
      ],
      "metadata": {
        "id": "vSBKPbM_YAA7"
      }
    },
    {
      "cell_type": "code",
      "source": [
        "class RegularPolygon:\n",
        "  def __init__(self,side):\n",
        "    self.side = side\n",
        "class Square(RegularPolygon):\n",
        "  def area(self):\n",
        "    return self.side*self.side\n",
        "class EquilateralTriangle(RegularPolygon):\n",
        "  def area(self):\n",
        "    return self.side*self.side*0.433\n",
        "\n",
        "obj1 = Square(4)\n",
        "print(obj1.area())\n",
        "\n",
        "obj2 = EquilateralTriangle(3)\n",
        "print(obj2.area())"
      ],
      "metadata": {
        "colab": {
          "base_uri": "https://localhost:8080/"
        },
        "id": "npzn8aTrX_O1",
        "outputId": "157eeec4-87d0-4389-8ff6-8ca0680013f8"
      },
      "execution_count": null,
      "outputs": [
        {
          "output_type": "stream",
          "name": "stdout",
          "text": [
            "16\n",
            "3.897\n"
          ]
        }
      ]
    },
    {
      "cell_type": "markdown",
      "source": [
        "**Application 1**\n",
        "1.   Create a Python program that display the name of the three students (Student 1,Student 2, and Student 3) and their term grades \n",
        "2.   Create a class name Person and attributes - std1, std2, std2,pre,mid,fin\n",
        "3.   Compute the average of each term grade using Grade() method\n",
        "4.   Information about student's grades must be hidden from others\n",
        "\n"
      ],
      "metadata": {
        "id": "Lg4O80REY-J5"
      }
    },
    {
      "cell_type": "code",
      "source": [
        "class Person:\n",
        "  def __init__(self,name,std1,std2,std3,pre,mid,fin):\n",
        "    self.__name = name\n",
        "    self.__std1 = std1\n",
        "    self.__std2 = std2\n",
        "    self.__std3 = std3\n",
        "    self.__pre = pre\n",
        "    self.__mid = mid\n",
        "    self.__fin = fin\n",
        "  def Grade(self):\n",
        "    total = self.__std1+self.__std2+self.__std3+self.__pre+self.__mid+self.__fin\n",
        "    average = total/6\n",
        "    print(self.__name)\n",
        "    print(\"Term Grade:\", average)\n",
        "    \n",
        "Student1 = Person(\"Student 1\",87,65,87,98,91,74)\n",
        "Student2 = Person(\"Student 2\",89,85,79,93,94,86)\n",
        "Student3 = Person(\"Student 3\",78,79,90,89,84,88)\n",
        "\n",
        "Student1.Grade()\n",
        "Student2.Grade()\n",
        "Student3.Grade()"
      ],
      "metadata": {
        "id": "j0SwnFGBctzI",
        "colab": {
          "base_uri": "https://localhost:8080/"
        },
        "outputId": "95971fab-7012-4bce-c8f6-0139395d22a5"
      },
      "execution_count": 4,
      "outputs": [
        {
          "output_type": "stream",
          "name": "stdout",
          "text": [
            "Student 1\n",
            "Term Grade: 83.66666666666667\n",
            "Student 2\n",
            "Term Grade: 87.66666666666667\n",
            "Student 3\n",
            "Term Grade: 84.66666666666667\n"
          ]
        }
      ]
    },
    {
      "cell_type": "code",
      "source": [
        ""
      ],
      "metadata": {
        "id": "e5DtR9w_QPNa"
      },
      "execution_count": null,
      "outputs": []
    }
  ]
}