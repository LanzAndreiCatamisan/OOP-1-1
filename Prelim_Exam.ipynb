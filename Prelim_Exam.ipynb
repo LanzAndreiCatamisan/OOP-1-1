{
  "nbformat": 4,
  "nbformat_minor": 0,
  "metadata": {
    "colab": {
      "name": "Prelim Exam.ipynb",
      "provenance": [],
      "authorship_tag": "ABX9TyM4UCn8Y2I+E6DwowbePypu",
      "include_colab_link": true
    },
    "kernelspec": {
      "name": "python3",
      "display_name": "Python 3"
    },
    "language_info": {
      "name": "python"
    }
  },
  "cells": [
    {
      "cell_type": "markdown",
      "metadata": {
        "id": "view-in-github",
        "colab_type": "text"
      },
      "source": [
        "<a href=\"https://colab.research.google.com/github/LanzAndreiCatamisan/OOP-1-1/blob/main/Prelim_Exam.ipynb\" target=\"_parent\"><img src=\"https://colab.research.google.com/assets/colab-badge.svg\" alt=\"Open In Colab\"/></a>"
      ]
    },
    {
      "cell_type": "markdown",
      "source": [
        "## **Problem 2**\n",
        "1.\tWrite a Python to display your full name, student number, age, and course\n",
        "2.\tCreate a class named Student with attributes: Name, Student_No, Age, School, and Course\n",
        "3.\tCreate an object name Myself and assign an instance for each attribute.\n",
        "4.\tCreate a method Info() using an instantiation of a class.\n",
        "5.\tInsert your GitHub link \"Prelim Exam\" from your repository named \"OOP 1-1\"\n"
      ],
      "metadata": {
        "id": "_3H6cg8q8dDC"
      }
    },
    {
      "cell_type": "code",
      "source": [
        "class Student:\n",
        "  def __init__(self,Name,Student_No,Age,School,Course):\n",
        "    self.Name = Name\n",
        "    self.Student_No = Student_No\n",
        "    self.Age = Age\n",
        "    self.School = School\n",
        "    self.Course = Course\n",
        "  def Info(self):\n",
        "     print(f\"Full Name: {self.Name}\")\n",
        "     print(f\"Student Number: {self.Student_No}\")\n",
        "     print(f\"Age: {self.Age}\")\n",
        "     print(f\"Course: {self.Course}\")\n",
        "\n",
        "Myself = Student(\"Lanz Andrei A. Catamisan\", 202101886, 18, \"Cavite State University\", \"BSCpE\")\n",
        "\n",
        "Myself.Info()\n"
      ],
      "metadata": {
        "colab": {
          "base_uri": "https://localhost:8080/"
        },
        "id": "qMcXhsoa8fay",
        "outputId": "2492953d-e3cf-40f0-c4f6-7394b97fde6c"
      },
      "execution_count": 6,
      "outputs": [
        {
          "output_type": "stream",
          "name": "stdout",
          "text": [
            "Full Name: Lanz Andrei A. Catamisan\n",
            "Student Number: 202101886\n",
            "Age: 18\n",
            "Course: BSCpE\n"
          ]
        }
      ]
    }
  ]
}